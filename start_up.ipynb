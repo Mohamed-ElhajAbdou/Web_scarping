{
 "cells": [
  {
   "cell_type": "code",
   "execution_count": 22,
   "id": "6c223a99",
   "metadata": {},
   "outputs": [],
   "source": [
    "from selenium import webdriver\n",
    "from selenium import webdriver\n",
    "from selenium.webdriver.chrome.options import Options\n",
    "from selenium import webdriver\n",
    "from selenium import webdriver\n",
    "from selenium.webdriver.common.keys import Keys\n",
    "from selenium.webdriver.common.by import By\n",
    "from selenium.webdriver.support.ui import WebDriverWait\n",
    "from selenium.webdriver.support import expected_conditions as EC\n",
    "from selenium.webdriver.common.action_chains import ActionChains\n",
    "from selenium.webdriver.support.ui import Select\n",
    "import time as T\n",
    "import requests\n",
    "from bs4 import BeautifulSoup\n",
    "import json\n",
    "import warnings\n",
    "import re\n",
    "from selenium.webdriver.common.desired_capabilities import DesiredCapabilities\n",
    "import urllib.request\n",
    "warnings.filterwarnings('ignore')\n",
    "import pandas as pd \n",
    "import numpy as np\n",
    "import os \n",
    "from selenium.webdriver.chrome.service import Service\n",
    "\n",
    "def sleep(time):\n",
    "    return (T.sleep(time))\n",
    "\n",
    "def getting_URL(driver,url):\n",
    "    \n",
    "    return(driver.get(url))\n",
    "\n",
    "\n",
    "def Clicking_on_element(driver,Xpath):\n",
    "    dropdown_option = WebDriverWait(driver, 15).until(EC.presence_of_element_located((By.XPATH,Xpath)))\n",
    "    return (dropdown_option.click())\n",
    "\n",
    "\n",
    "\n",
    "\n",
    "option = webdriver.ChromeOptions()\n",
    "# Path to the GeckoDriver executable (change this to your actual path)\n",
    "geckodriver_path = 'geckodriver.exe'\n",
    "\n",
    "# Initialize the Firefox browser\n",
    "service = Service(executable_path=geckodriver_path)\n",
    "\n",
    "options = webdriver.ChromeOptions()\n",
    "driver = webdriver.Firefox(service=service)\n",
    "# URL of the website you want to scrape\n",
    "\n",
    "\n",
    "url = 'https://www.jumia.com.eg/?aff_click_id=71b787d9-b40c-4f92-9148-0511157456ae&utm_source=kol&utm_medium=affiliation&utm_campaign=bd9c5051-4ab9-4456-92cf-503270e61c88&utm_term=customlinks&utm_content=d62dba50-23dc-30b0-892a-6c4dbf2c28ae'\n",
    "\n",
    "# Open the website in the browser\n",
    "driver.get(url)\n",
    "\n",
    "sleep(7)\n",
    "\n",
    "\n",
    "# Perform scraping operations here\n",
    "# You can find elements, interact with them, and extract data\n",
    "Clicking_on_element(driver,'//*[@id=\"pop\"]/div/section/button')\n",
    "\n",
    "search_box=driver.find_element(By.ID,'fi-q')\n",
    "search_box.send_keys('Mobile')\n",
    "sleep(1)\n",
    "find=driver.find_element(By.XPATH,'/html/body/div[1]/header/section/form/button')\n",
    "find.click()\n",
    "\n"
   ]
  },
  {
   "cell_type": "code",
   "execution_count": null,
   "id": "fae8bff0",
   "metadata": {},
   "outputs": [],
   "source": []
  },
  {
   "cell_type": "code",
   "execution_count": 23,
   "id": "1d52bc33",
   "metadata": {},
   "outputs": [
    {
     "data": {
      "text/plain": [
       "'Iku A6 Dual Sim Dark Blue 1GB RAM 32GB 3G'"
      ]
     },
     "execution_count": 23,
     "metadata": {},
     "output_type": "execute_result"
    }
   ],
   "source": [
    "Product_Name=driver.find_element(By.XPATH,'/html/body/div[1]/main/div[1]/section/div/div[2]/div[1]').text\n",
    "Product_Name"
   ]
  },
  {
   "cell_type": "code",
   "execution_count": 7,
   "id": "6dff3c38",
   "metadata": {},
   "outputs": [],
   "source": []
  },
  {
   "cell_type": "code",
   "execution_count": 34,
   "id": "18c1f933",
   "metadata": {},
   "outputs": [
    {
     "data": {
      "text/plain": [
       "'PRODUCT REVIEWS (17)\\n5 out of 5\\nماشاء الله تبارك الله تحفة\\nموبايل كامل و الكمال له و شكرا للبائع بعد الله اللي اعطاني فرصة لامتلاكه\\n13-08-2023by سالي\\nVerified Purchase\\n5 out of 5\\nسامسونج a23\\nكاميرا جيده سعر كويس شبكته كويسه الوان الشاشه كويسه\\n12-07-2023by حسام الدين\\nVerified Purchase\\n5 out of 5\\nرائع\\nالسعر مقابل الجهاز رائع\\n05-07-2023by Mohamed\\nVerified Purchase'"
      ]
     },
     "execution_count": 34,
     "metadata": {},
     "output_type": "execute_result"
    }
   ],
   "source": [
    "reviews=driver.find_element(By.XPATH,'/html/body/div[1]/main/div[2]/div[2]/section[3]/div[2]/div[2]').text\n",
    "reviews"
   ]
  },
  {
   "cell_type": "code",
   "execution_count": 9,
   "id": "6040087b",
   "metadata": {},
   "outputs": [],
   "source": [
    "search_box=driver.find_element(By.ID,'fi-q')\n",
    "search_box.send_keys('Mobile')\n",
    "sleep(1)\n",
    "find=driver.find_element(By.XPATH,'/html/body/div[1]/header/section/form/button')\n",
    "find.click()"
   ]
  },
  {
   "cell_type": "code",
   "execution_count": 10,
   "id": "d68ea02f",
   "metadata": {},
   "outputs": [
    {
     "data": {
      "text/plain": [
       "<Response [403]>"
      ]
     },
     "execution_count": 10,
     "metadata": {},
     "output_type": "execute_result"
    }
   ],
   "source": [
    "from bs4 import BeautifulSoup\n",
    "import requests\n",
    "import warnings\n",
    "warnings.filterwarnings(\"ignore\")\n",
    "import requests\n",
    "resp = requests.get(\"https://www.jumia.com.eg/the-nudes-eyeshadow-9.6g-maybelline-new-york-mpg872304.html\")\n",
    "resp"
   ]
  },
  {
   "cell_type": "code",
   "execution_count": 11,
   "id": "1092b713",
   "metadata": {},
   "outputs": [],
   "source": [
    "\n",
    "\n",
    "Clicking_on_element(driver,'/html/body/div[1]/main/div[2]/div[3]/section/div[1]/article[2]/a/div[1]/img')"
   ]
  },
  {
   "cell_type": "code",
   "execution_count": null,
   "id": "447c9062",
   "metadata": {},
   "outputs": [],
   "source": [
    "# /html/body/div[1]/main/div[1]/section/div/div[2]/div[1]/div/h1\n",
    "\n",
    "# find=driver.find_element(By.XPATH,'/html/body/div[1]/header/section/form/button')\n"
   ]
  }
 ],
 "metadata": {
  "kernelspec": {
   "display_name": "Python 3 (ipykernel)",
   "language": "python",
   "name": "python3"
  },
  "language_info": {
   "codemirror_mode": {
    "name": "ipython",
    "version": 3
   },
   "file_extension": ".py",
   "mimetype": "text/x-python",
   "name": "python",
   "nbconvert_exporter": "python",
   "pygments_lexer": "ipython3",
   "version": "3.9.7"
  }
 },
 "nbformat": 4,
 "nbformat_minor": 5
}
